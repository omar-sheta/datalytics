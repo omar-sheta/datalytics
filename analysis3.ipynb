{
 "cells": [
  {
   "cell_type": "code",
   "execution_count": 1,
   "metadata": {},
   "outputs": [],
   "source": [
    "# load data into df\n",
    "import pandas as pd\n",
    "import numpy as np\n",
    "import matplotlib.pyplot as plt\n",
    "import seaborn as sns"
   ]
  },
  {
   "cell_type": "code",
   "execution_count": 2,
   "metadata": {},
   "outputs": [],
   "source": [
    "orders = pd.read_csv('orders_competition.csv')\n",
    "clients = pd.read_csv('clients_competition.csv')"
   ]
  },
  {
   "cell_type": "markdown",
   "metadata": {},
   "source": [
    "### Data preprocessing"
   ]
  },
  {
   "cell_type": "code",
   "execution_count": 10,
   "metadata": {},
   "outputs": [],
   "source": [
    "clients['Is Dormant'] = clients['Is Dormant'].replace(-1.0, 1)\n",
    "clients['Is Dormant'] = clients['Is Dormant'].replace(0.0, 0)\n",
    "# use astype to convert to int\n",
    "clients['Is Dormant'] = clients['Is Dormant'].astype(int)\n",
    "clients.head()\n",
    "\n",
    "# join orders and clients on Account ID\n",
    "merged = pd.merge(orders, clients, on='Account ID', how='inner')\n"
   ]
  },
  {
   "cell_type": "code",
   "execution_count": 3,
   "metadata": {},
   "outputs": [
    {
     "name": "stderr",
     "output_type": "stream",
     "text": [
      "/Users/Omar/opt/anaconda3/lib/python3.9/site-packages/matplotlib/cbook/__init__.py:1402: FutureWarning: Support for multi-dimensional indexing (e.g. `obj[:, None]`) is deprecated and will be removed in a future version.  Convert to a numpy array before indexing instead.\n",
      "  x[:, None]\n",
      "/Users/Omar/opt/anaconda3/lib/python3.9/site-packages/matplotlib/axes/_base.py:276: FutureWarning: Support for multi-dimensional indexing (e.g. `obj[:, None]`) is deprecated and will be removed in a future version.  Convert to a numpy array before indexing instead.\n",
      "  x = x[:, np.newaxis]\n",
      "/Users/Omar/opt/anaconda3/lib/python3.9/site-packages/matplotlib/axes/_base.py:278: FutureWarning: Support for multi-dimensional indexing (e.g. `obj[:, None]`) is deprecated and will be removed in a future version.  Convert to a numpy array before indexing instead.\n",
      "  y = y[:, np.newaxis]\n"
     ]
    },
    {
     "data": {
      "image/png": "[encoded data removed]",
      "text/plain": [
       "<Figure size 432x288 with 1 Axes>"
      ]
     },
     "metadata": {
      "needs_background": "light"
     },
     "output_type": "display_data"
    },
    {
     "name": "stderr",
     "output_type": "stream",
     "text": [
      "/Users/Omar/opt/anaconda3/lib/python3.9/site-packages/matplotlib/cbook/__init__.py:1402: FutureWarning: Support for multi-dimensional indexing (e.g. `obj[:, None]`) is deprecated and will be removed in a future version.  Convert to a numpy array before indexing instead.\n",
      "  x[:, None]\n",
      "/Users/Omar/opt/anaconda3/lib/python3.9/site-packages/matplotlib/axes/_base.py:276: FutureWarning: Support for multi-dimensional indexing (e.g. `obj[:, None]`) is deprecated and will be removed in a future version.  Convert to a numpy array before indexing instead.\n",
      "  x = x[:, np.newaxis]\n",
      "/Users/Omar/opt/anaconda3/lib/python3.9/site-packages/matplotlib/axes/_base.py:278: FutureWarning: Support for multi-dimensional indexing (e.g. `obj[:, None]`) is deprecated and will be removed in a future version.  Convert to a numpy array before indexing instead.\n",
      "  y = y[:, np.newaxis]\n"
     ]
    },
    {
     "data": {
      "image/png": "[encoded data removed]",
      "text/plain": [
       "<Figure size 432x288 with 1 Axes>"
      ]
     },
     "metadata": {
      "needs_background": "light"
     },
     "output_type": "display_data"
    }
   ],
   "source": [
    "import pandas as pd\n",
    "import matplotlib.pyplot as plt\n",
    "import seaborn as sns\n",
    "\n",
    "# Assuming orders is already loaded\n",
    "# Calculate summary stats for orders\n",
    "order_summary = orders.groupby('Account ID').agg({\n",
    "    'Order ID': 'count',\n",
    "    'Is Completed': 'mean',\n",
    "    'Is Canceled': 'mean',\n",
    "    'quantity': 'mean',\n",
    "    'Price': 'mean'\n",
    "}).rename(columns={'Order ID': 'total_orders', 'Is Completed': 'completion_rate', \n",
    "                   'Is Canceled': 'cancel_rate', 'quantity': 'avg_quantity', 'Price': 'avg_price'})\n",
    "\n",
    "# Merge with clients\n",
    "full_data = pd.merge(clients, order_summary, on='Account ID', how='left')\n",
    "\n",
    "# Plot distributions of order behaviors\n",
    "sns.histplot(full_data['total_orders'].dropna(), kde=True)\n",
    "plt.title('Distribution of Total Orders')\n",
    "plt.show()\n",
    "\n",
    "sns.histplot(full_data['completion_rate'].dropna(), kde=True)\n",
    "plt.title('Completion Rate Distribution')\n",
    "plt.show()\n"
   ]
  },
  {
   "cell_type": "code",
   "execution_count": 11,
   "metadata": {},
   "outputs": [
    {
     "ename": "KeyError",
     "evalue": "'Column not found: Order Date'",
     "output_type": "error",
     "traceback": [
      "\u001b[0;31m---------------------------------------------------------------------------\u001b[0m",
      "\u001b[0;31mKeyError\u001b[0m                                  Traceback (most recent call last)",
      "\u001b[0;32m/var/folders/xt/jp3v18wd171bjzynfh02f21h0000gq/T/ipykernel_2045/3462504004.py\u001b[0m in \u001b[0;36m<module>\u001b[0;34m\u001b[0m\n\u001b[1;32m      8\u001b[0m \u001b[0;34m\u001b[0m\u001b[0m\n\u001b[1;32m      9\u001b[0m \u001b[0mchurned_clients\u001b[0m \u001b[0;34m=\u001b[0m \u001b[0mmerged\u001b[0m\u001b[0;34m[\u001b[0m\u001b[0mmerged\u001b[0m\u001b[0;34m[\u001b[0m\u001b[0;34m'Churned'\u001b[0m\u001b[0;34m]\u001b[0m \u001b[0;34m==\u001b[0m \u001b[0;36m1\u001b[0m\u001b[0;34m]\u001b[0m\u001b[0;34m\u001b[0m\u001b[0;34m\u001b[0m\u001b[0m\n\u001b[0;32m---> 10\u001b[0;31m \u001b[0mlast_activity\u001b[0m \u001b[0;34m=\u001b[0m \u001b[0mchurned_clients\u001b[0m\u001b[0;34m.\u001b[0m\u001b[0mgroupby\u001b[0m\u001b[0;34m(\u001b[0m\u001b[0;34m'Account ID'\u001b[0m\u001b[0;34m)\u001b[0m\u001b[0;34m[\u001b[0m\u001b[0;34m'Order Date'\u001b[0m\u001b[0;34m]\u001b[0m\u001b[0;34m.\u001b[0m\u001b[0mmax\u001b[0m\u001b[0;34m(\u001b[0m\u001b[0;34m)\u001b[0m\u001b[0;34m.\u001b[0m\u001b[0mreset_index\u001b[0m\u001b[0;34m(\u001b[0m\u001b[0;34m)\u001b[0m\u001b[0;34m\u001b[0m\u001b[0;34m\u001b[0m\u001b[0m\n\u001b[0m\u001b[1;32m     11\u001b[0m \u001b[0mlast_activity\u001b[0m\u001b[0;34m.\u001b[0m\u001b[0mcolumns\u001b[0m \u001b[0;34m=\u001b[0m \u001b[0;34m[\u001b[0m\u001b[0;34m'Account ID'\u001b[0m\u001b[0;34m,\u001b[0m \u001b[0;34m'Closed Date'\u001b[0m\u001b[0;34m]\u001b[0m\u001b[0;34m\u001b[0m\u001b[0;34m\u001b[0m\u001b[0m\n\u001b[1;32m     12\u001b[0m \u001b[0;34m\u001b[0m\u001b[0m\n",
      "\u001b[0;32m~/opt/anaconda3/lib/python3.9/site-packages/pandas/core/groupby/generic.py\u001b[0m in \u001b[0;36m__getitem__\u001b[0;34m(self, key)\u001b[0m\n\u001b[1;32m   1536\u001b[0m                 \u001b[0mstacklevel\u001b[0m\u001b[0;34m=\u001b[0m\u001b[0;36m2\u001b[0m\u001b[0;34m,\u001b[0m\u001b[0;34m\u001b[0m\u001b[0;34m\u001b[0m\u001b[0m\n\u001b[1;32m   1537\u001b[0m             )\n\u001b[0;32m-> 1538\u001b[0;31m         \u001b[0;32mreturn\u001b[0m \u001b[0msuper\u001b[0m\u001b[0;34m(\u001b[0m\u001b[0;34m)\u001b[0m\u001b[0;34m.\u001b[0m\u001b[0m__getitem__\u001b[0m\u001b[0;34m(\u001b[0m\u001b[0mkey\u001b[0m\u001b[0;34m)\u001b[0m\u001b[0;34m\u001b[0m\u001b[0;34m\u001b[0m\u001b[0m\n\u001b[0m\u001b[1;32m   1539\u001b[0m \u001b[0;34m\u001b[0m\u001b[0m\n\u001b[1;32m   1540\u001b[0m     \u001b[0;32mdef\u001b[0m \u001b[0m_gotitem\u001b[0m\u001b[0;34m(\u001b[0m\u001b[0mself\u001b[0m\u001b[0;34m,\u001b[0m \u001b[0mkey\u001b[0m\u001b[0;34m,\u001b[0m \u001b[0mndim\u001b[0m\u001b[0;34m:\u001b[0m \u001b[0mint\u001b[0m\u001b[0;34m,\u001b[0m \u001b[0msubset\u001b[0m\u001b[0;34m=\u001b[0m\u001b[0;32mNone\u001b[0m\u001b[0;34m)\u001b[0m\u001b[0;34m:\u001b[0m\u001b[0;34m\u001b[0m\u001b[0;34m\u001b[0m\u001b[0m\n",
      "\u001b[0;32m~/opt/anaconda3/lib/python3.9/site-packages/pandas/core/base.py\u001b[0m in \u001b[0;36m__getitem__\u001b[0;34m(self, key)\u001b[0m\n\u001b[1;32m    230\u001b[0m         \u001b[0;32melse\u001b[0m\u001b[0;34m:\u001b[0m\u001b[0;34m\u001b[0m\u001b[0;34m\u001b[0m\u001b[0m\n\u001b[1;32m    231\u001b[0m             \u001b[0;32mif\u001b[0m \u001b[0mkey\u001b[0m \u001b[0;32mnot\u001b[0m \u001b[0;32min\u001b[0m \u001b[0mself\u001b[0m\u001b[0;34m.\u001b[0m\u001b[0mobj\u001b[0m\u001b[0;34m:\u001b[0m\u001b[0;34m\u001b[0m\u001b[0;34m\u001b[0m\u001b[0m\n\u001b[0;32m--> 232\u001b[0;31m                 \u001b[0;32mraise\u001b[0m \u001b[0mKeyError\u001b[0m\u001b[0;34m(\u001b[0m\u001b[0;34mf\"Column not found: {key}\"\u001b[0m\u001b[0;34m)\u001b[0m\u001b[0;34m\u001b[0m\u001b[0;34m\u001b[0m\u001b[0m\n\u001b[0m\u001b[1;32m    233\u001b[0m             \u001b[0msubset\u001b[0m \u001b[0;34m=\u001b[0m \u001b[0mself\u001b[0m\u001b[0;34m.\u001b[0m\u001b[0mobj\u001b[0m\u001b[0;34m[\u001b[0m\u001b[0mkey\u001b[0m\u001b[0;34m]\u001b[0m\u001b[0;34m\u001b[0m\u001b[0;34m\u001b[0m\u001b[0m\n\u001b[1;32m    234\u001b[0m             \u001b[0mndim\u001b[0m \u001b[0;34m=\u001b[0m \u001b[0msubset\u001b[0m\u001b[0;34m.\u001b[0m\u001b[0mndim\u001b[0m\u001b[0;34m\u001b[0m\u001b[0;34m\u001b[0m\u001b[0m\n",
      "\u001b[0;31mKeyError\u001b[0m: 'Column not found: Order Date'"
     ]
    }
   ],
   "source": [
    "# Calculate churn\n",
    "clients['Churned'] = np.where(clients['Is Dormant'] == 1 | clients['Is Closed'], 1, 0)\n",
    "\n",
    "\n",
    "\n",
    "# Join with orders\n",
    "merged = pd.merge(orders, clients, on='Account ID', how='inner')\n",
    "\n",
    "churned_clients = merged[merged['Churned'] == 1]\n",
    "last_activity = churned_clients.groupby('Account ID')['Order Date'].max().reset_index()\n",
    "last_activity.columns = ['Account ID', 'Closed Date']\n",
    "\n",
    "# Merge with clients\n",
    "clients = pd.merge(clients, last_activity, on='Account ID', how='left')\n",
    "\n",
    "\n",
    "\n"
   ]
  },
  {
   "cell_type": "code",
   "execution_count": 9,
   "metadata": {},
   "outputs": [
    {
     "data": {
      "text/html": [
       "<div>\n",
       "<style scoped>\n",
       "    .dataframe tbody tr th:only-of-type {\n",
       "        vertical-align: middle;\n",
       "    }\n",
       "\n",
       "    .dataframe tbody tr th {\n",
       "        vertical-align: top;\n",
       "    }\n",
       "\n",
       "    .dataframe thead th {\n",
       "        text-align: right;\n",
       "    }\n",
       "</style>\n",
       "<table border=\"1\" class=\"dataframe\">\n",
       "  <thead>\n",
       "    <tr style=\"text-align: right;\">\n",
       "      <th></th>\n",
       "      <th>Client ID</th>\n",
       "      <th>Account ID</th>\n",
       "      <th>Gender</th>\n",
       "      <th>Risk Rate</th>\n",
       "      <th>Company Name</th>\n",
       "      <th>Is Closed</th>\n",
       "      <th>Is Dormant</th>\n",
       "      <th>Is Profile Suspended</th>\n",
       "      <th>Is Client Suspended</th>\n",
       "      <th>Client Type Name</th>\n",
       "      <th>OpenDate</th>\n",
       "      <th>BirthDate</th>\n",
       "      <th>Churned</th>\n",
       "    </tr>\n",
       "  </thead>\n",
       "  <tbody>\n",
       "    <tr>\n",
       "      <th>0</th>\n",
       "      <td>0</td>\n",
       "      <td>0</td>\n",
       "      <td>Male</td>\n",
       "      <td>Low</td>\n",
       "      <td>HSB</td>\n",
       "      <td>0</td>\n",
       "      <td>0.0</td>\n",
       "      <td>0</td>\n",
       "      <td>0</td>\n",
       "      <td>Individuals</td>\n",
       "      <td>2/16/2014</td>\n",
       "      <td>1990-07-27</td>\n",
       "      <td>0</td>\n",
       "    </tr>\n",
       "    <tr>\n",
       "      <th>1</th>\n",
       "      <td>1</td>\n",
       "      <td>1</td>\n",
       "      <td>Female</td>\n",
       "      <td>Low</td>\n",
       "      <td>HSB</td>\n",
       "      <td>0</td>\n",
       "      <td>-1.0</td>\n",
       "      <td>1</td>\n",
       "      <td>0</td>\n",
       "      <td>Individuals</td>\n",
       "      <td>2/16/2014</td>\n",
       "      <td>1963-10-22</td>\n",
       "      <td>0</td>\n",
       "    </tr>\n",
       "    <tr>\n",
       "      <th>2</th>\n",
       "      <td>2</td>\n",
       "      <td>2</td>\n",
       "      <td>Male</td>\n",
       "      <td>Low</td>\n",
       "      <td>HSB</td>\n",
       "      <td>0</td>\n",
       "      <td>0.0</td>\n",
       "      <td>0</td>\n",
       "      <td>0</td>\n",
       "      <td>Individuals</td>\n",
       "      <td>2/17/2014</td>\n",
       "      <td>1971-05-14</td>\n",
       "      <td>0</td>\n",
       "    </tr>\n",
       "    <tr>\n",
       "      <th>3</th>\n",
       "      <td>3</td>\n",
       "      <td>3</td>\n",
       "      <td>Male</td>\n",
       "      <td>Low</td>\n",
       "      <td>HSB</td>\n",
       "      <td>0</td>\n",
       "      <td>0.0</td>\n",
       "      <td>0</td>\n",
       "      <td>0</td>\n",
       "      <td>Individuals</td>\n",
       "      <td>2/17/2014</td>\n",
       "      <td>1953-01-14</td>\n",
       "      <td>0</td>\n",
       "    </tr>\n",
       "    <tr>\n",
       "      <th>4</th>\n",
       "      <td>4</td>\n",
       "      <td>4</td>\n",
       "      <td>Male</td>\n",
       "      <td>Low</td>\n",
       "      <td>HSB</td>\n",
       "      <td>0</td>\n",
       "      <td>0.0</td>\n",
       "      <td>0</td>\n",
       "      <td>0</td>\n",
       "      <td>Individuals</td>\n",
       "      <td>2/17/2014</td>\n",
       "      <td>1976-06-09</td>\n",
       "      <td>0</td>\n",
       "    </tr>\n",
       "  </tbody>\n",
       "</table>\n",
       "</div>"
      ],
      "text/plain": [
       "   Client ID  Account ID  Gender Risk Rate Company Name  Is Closed  \\\n",
       "0          0           0    Male       Low          HSB          0   \n",
       "1          1           1  Female       Low          HSB          0   \n",
       "2          2           2    Male       Low          HSB          0   \n",
       "3          3           3    Male       Low          HSB          0   \n",
       "4          4           4    Male       Low          HSB          0   \n",
       "\n",
       "   Is Dormant  Is Profile Suspended  Is Client Suspended Client Type Name  \\\n",
       "0         0.0                     0                    0      Individuals   \n",
       "1        -1.0                     1                    0      Individuals   \n",
       "2         0.0                     0                    0      Individuals   \n",
       "3         0.0                     0                    0      Individuals   \n",
       "4         0.0                     0                    0      Individuals   \n",
       "\n",
       "    OpenDate   BirthDate  Churned  \n",
       "0  2/16/2014  1990-07-27        0  \n",
       "1  2/16/2014  1963-10-22        0  \n",
       "2  2/17/2014  1971-05-14        0  \n",
       "3  2/17/2014  1953-01-14        0  \n",
       "4  2/17/2014  1976-06-09        0  "
      ]
     },
     "execution_count": 9,
     "metadata": {},
     "output_type": "execute_result"
    }
   ],
   "source": [
    "clients.head()"
   ]
  },
  {
   "cell_type": "markdown",
   "metadata": {},
   "source": [
    "### Cohort analysis"
   ]
  },
  {
   "cell_type": "code",
   "execution_count": null,
   "metadata": {},
   "outputs": [],
   "source": [
    "import pandas as pd\n",
    "import matplotlib.pyplot as plt\n",
    "\n",
    "# Assuming 'full_data' is your DataFrame and it includes 'OpenDate' and 'Churn' columns\n",
    "# Convert 'OpenDate' to datetime if it's not already\n",
    "full_data['OpenDate'] = pd.to_datetime(full_data['OpenDate'])\n",
    "\n",
    "# Extract the year and month/quarter from 'OpenDate' for cohort grouping\n",
    "full_data['Cohort'] = full_data['OpenDate'].dt.to_period('M')  # Use 'Q' for quarter\n",
    "\n",
    "# Group by cohort and calculate churn rates and average activity\n",
    "cohort_data = full_data.groupby('Cohort').agg(\n",
    "    total_customers=pd.NamedAgg(column='Account ID', aggfunc='count'),\n",
    "    churn_rate=pd.NamedAgg(column='Is Closed', aggfunc='mean')  # Assuming 'Is Closed' is a binary indicator of churn\n",
    ")\n",
    "\n",
    "# Calculate how long customers stay before churning\n",
    "# This assumes you have a 'ClosedDate' for when accounts are closed; adjust as necessary\n",
    "# If no specific close date, consider the last activity date or similar\n",
    "if 'ClosedDate' in full_data.columns:\n",
    "    full_data['ClosedDate'] = pd.to_datetime(full_data['ClosedDate'])\n",
    "    full_data['Duration'] = (full_data['ClosedDate'] - full_data['OpenDate']).dt.days\n",
    "    duration_by_cohort = full_data.groupby('Cohort')['Duration'].mean()\n",
    "    cohort_data = cohort_data.join(duration_by_cohort)\n",
    "\n",
    "# Visualizing the results\n",
    "fig, ax = plt.subplots(2, 1, figsize=(10, 8))\n",
    "cohort_data['total_customers'].plot(kind='bar', ax=ax[0], color='skyblue', title='Total Customers by Cohort')\n",
    "cohort_data['churn_rate'].plot(kind='bar', ax=ax[1], color='orange', title='Churn Rate by Cohort')\n",
    "plt.tight_layout()\n",
    "plt.show()\n",
    "\n",
    "# If Duration analysis is applicable\n",
    "if 'Duration' in cohort_data.columns:\n",
    "    cohort_data['Duration'].plot(kind='bar', color='green', title='Average Duration before Churning by Cohort')\n",
    "    plt.show()\n"
   ]
  }
 ],
 "metadata": {
  "kernelspec": {
   "display_name": "base",
   "language": "python",
   "name": "python3"
  },
  "language_info": {
   "codemirror_mode": {
    "name": "ipython",
    "version": 3
   },
   "file_extension": ".py",
   "mimetype": "text/x-python",
   "name": "python",
   "nbconvert_exporter": "python",
   "pygments_lexer": "ipython3",
   "version": "3.9.7"
  }
 },
 "nbformat": 4,
 "nbformat_minor": 2
}
